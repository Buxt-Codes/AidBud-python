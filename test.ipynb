{
 "cells": [
  {
   "cell_type": "code",
   "execution_count": 1,
   "id": "da4a0acf",
   "metadata": {},
   "outputs": [],
   "source": [
    "from aidbud.models import LLM\n",
    "from huggingface_hub import notebook_login\n",
    "import os\n",
    "os.environ[\"DISABLE_TORCH_COMPILE\"] = \"1\"\n",
    "import torch\n",
    "torch.compile = lambda x, *args, **kwargs: x  \n",
    "import torch._dynamo\n",
    "torch._dynamo.config.suppress_errors = True"
   ]
  },
  {
   "cell_type": "code",
   "execution_count": 2,
   "id": "f235be42",
   "metadata": {},
   "outputs": [
    {
     "name": "stdout",
     "output_type": "stream",
     "text": [
      "Loading model 'google/gemma-3n-E4B-it' on device: cuda...\n"
     ]
    },
    {
     "data": {
      "application/vnd.jupyter.widget-view+json": {
       "model_id": "138c1ad73c3e48039221107accf4194e",
       "version_major": 2,
       "version_minor": 0
      },
      "text/plain": [
       "Loading checkpoint shards:   0%|          | 0/4 [00:00<?, ?it/s]"
      ]
     },
     "metadata": {},
     "output_type": "display_data"
    },
    {
     "name": "stdout",
     "output_type": "stream",
     "text": [
      "Model loaded successfully.\n"
     ]
    }
   ],
   "source": [
    "llm = LLM()"
   ]
  },
  {
   "cell_type": "code",
   "execution_count": 4,
   "id": "e860343e",
   "metadata": {},
   "outputs": [
    {
     "name": "stdout",
     "output_type": "stream",
     "text": [
      "Downloading video from URL: https://commondatastorage.googleapis.com/gtv-videos-bucket/sample/ForBiggerEscapes.mp4\n",
      "Video downloaded to temporary file: C:\\Users\\ian\\AppData\\Local\\Temp\\tmpqlxe7qxt.mp4\n"
     ]
    },
    {
     "data": {
      "text/plain": [
       "'user\\nCAN YOU DESCRIBE THIS VIDEO IN DETAIL\\n\\n\\n\\n\\n\\n\\n\\n\\n\\n\\n\\n\\n\\n\\n\\n\\n\\n\\n\\n\\n\\n\\n\\n\\n\\n\\n\\n\\n\\n\\n\\n\\n\\n\\n\\n\\n\\n\\n\\n\\n\\n\\n\\n\\n\\n\\n\\n\\n\\n\\n\\n\\n\\n\\n\\n\\n\\n\\n\\n\\n\\n\\n\\n\\n\\n\\n\\n\\nmodel\\nHere\\'s a detailed description of the video:\\n\\nThe video is a product advertisement for Google Chromecast. It showcases the device and its capabilities through a series of short, dynamic scenes.\\n\\n**Scene 1:** The video opens with a close-up shot of a dark, textured surface, likely a table. On it, there\\'s a tablet displaying a video. Next to the tablet are a cup, a pair of glasses, a pen, and a set of keys. The text \"Shortened sequences.\" is overlaid on the screen. This scene sets a casual, everyday context for using Chromecast.\\n\\n**Scene 2:** The tablet screen now displays a different video, seemingly an action or suspenseful scene with red and green elements. The text \"Shortened sequences.\" remains.\\n\\n**Scene 3:** The tablet shows a grid-like interface with red and green squares. This suggests access to various streaming services and content.\\n\\n**Scene 4:** A close-up of the tablet screen shows a dynamic action scene with explosions and debris. This emphasizes the ability to stream engaging content.\\n\\n**Scene 5:** The tablet screen transitions to a dark, blurry image, implying a streaming experience.\\n\\n**Scene 6:** The text \"FOR BIGGER ESCAPES\" appears prominently on the screen. This tagline hints at the immersive entertainment experience Chromecast offers.\\n\\n**Scene 7:** A blurred shot of people walking in a dimly lit, urban environment. This further reinforces the idea of escaping into entertainment.\\n\\n**Scene 8:** A close-up of the Chromecast device plugged into a TV. The text \"Power cord required (not shown).\" is displayed, indicating the setup process.\\n\\n**Scene 9:** The Google Play logo and the text \"Google play right on your TV.\" appear, highlighting the access to a vast library of apps and content.\\n\\n**Scene 10:** The text \"Everything you love, now on your TV.\" emphasizes the central benefit of Chromecast – bringing favorite content to the big screen.\\n\\n**Scene 11:** The price \"$35. For everyone. Plus tax.\" is displayed, outlining the cost of the device.\\n\\n**Scene 12 & 13:** The Chromecast logo and website address \"google.com/chromecast\" are shown, providing information on where to learn more and purchase the product.\\n\\n**Overall Impression:**\\n\\nThe video uses a combination of close-up shots of the device, dynamic streaming content, and concise text to convey the key message: Chromecast makes it easy to stream your favorite content from your phone or tablet to your TV. The tagline \"FOR BIGGER ESCAPES\" and the visuals of action and urban environments aim to evoke a sense of immersive entertainment. The video is short, punchy, and focuses on the convenience and value proposition of Google Chromecast.'"
      ]
     },
     "execution_count": 4,
     "metadata": {},
     "output_type": "execute_result"
    }
   ],
   "source": [
    "llm.generate(\"CAN YOU DESCRIBE THIS VIDEO IN DETAIL\", video_paths=[\"https://commondatastorage.googleapis.com/gtv-videos-bucket/sample/ForBiggerEscapes.mp4\"])"
   ]
  }
 ],
 "metadata": {
  "kernelspec": {
   "display_name": "Python 3",
   "language": "python",
   "name": "python3"
  },
  "language_info": {
   "codemirror_mode": {
    "name": "ipython",
    "version": 3
   },
   "file_extension": ".py",
   "mimetype": "text/x-python",
   "name": "python",
   "nbconvert_exporter": "python",
   "pygments_lexer": "ipython3",
   "version": "3.12.6"
  }
 },
 "nbformat": 4,
 "nbformat_minor": 5
}
